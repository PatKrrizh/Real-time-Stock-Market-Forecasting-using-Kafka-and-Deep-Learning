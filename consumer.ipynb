{
 "cells": [
  {
   "cell_type": "code",
   "execution_count": null,
   "metadata": {},
   "outputs": [],
   "source": [
    "# import necessary packages\n",
    "from kafka import KafkaConsumer\n",
    "import json\n",
    "import logging\n",
    "import time\n",
    "import threading\n",
    "from kafka.structs import TopicPartition"
   ]
  },
  {
   "cell_type": "code",
   "execution_count": null,
   "metadata": {},
   "outputs": [],
   "source": [
    "# function to retrieve messages from Kafka Server for a given topic & partition\n",
    "GroupID = \"Enter Group ID\"\n",
    "def Consume_messages(my_topic,my_partition):\n",
    "    try:\n",
    "        print('thread started for topic: '+my_topic+ ' & partition: '+str(my_partition))\n",
    "        consumer = KafkaConsumer(bootstrap_servers=bootstrap_servers, group_id=GroupID,\n",
    "            consumer_timeout_ms=2000,\n",
    "            value_deserializer=lambda x: json.loads(x.decode('utf-8')))\n",
    "        tp = TopicPartition(topic=my_topic, partition=my_partition)\n",
    "        consumer.assign([tp])\n",
    "        while True:\n",
    "            txt = {}\n",
    "            msg_count = 0\n",
    "            while msg_count <= 50:\n",
    "                for msg in consumer:\n",
    "                    consumer.commit()\n",
    "                    txt.update(msg.value)\n",
    "                    msg_count = msg_count + 1\n",
    "                    print(msg.value)\n",
    "                    time.sleep(0.5)\n",
    "            stock_dataframe = pd.DataFrame.from_records(txt).T\n",
    "            #Save the data into CSV Format\n",
    "            stock_dataframe.to_csv('Rt_data.csv')\n",
    "            time.sleep(15)\n",
    "    except Exception as e:\n",
    "            logging.warning('exception while pulling data from Kafka')"
   ]
  },
  {
   "cell_type": "code",
   "execution_count": null,
   "metadata": {},
   "outputs": [],
   "source": [
    "# give name to Kafka Topic & define local Kafka server\n",
    "topic = 'Enter Topic Name'\n",
    "bootstrap_servers = 'localhost:9092'"
   ]
  },
  {
   "cell_type": "code",
   "execution_count": null,
   "metadata": {},
   "outputs": [],
   "source": [
    "consumer = KafkaConsumer(bootstrap_servers=bootstrap_servers, group_id=GroupID,\n",
    "    consumer_timeout_ms=2000,\n",
    "    value_deserializer=lambda x: json.loads(x.decode('utf-8')))\n",
    "partitions=consumer.partitions_for_topic(topic=topic)\n",
    "threads = []\n",
    "for p in partitions:\n",
    "    t = time.time()\n",
    "    # create the thread\n",
    "    threads.append(threading.Thread(target=Consume_messages, args=(topic,p,)))\n",
    "    print (topic + ' -> '+str(p))\n",
    "    threads[-1].start() # start the thread we just created\n",
    "# wait for all threads to finish                                            \n",
    "for t in threads:                                                           \n",
    "    t.join() "
   ]
  },
  {
   "cell_type": "code",
   "execution_count": null,
   "metadata": {},
   "outputs": [],
   "source": [
    "# close the Kafka consumer object\n",
    "consumer.close()"
   ]
  }
 ],
 "metadata": {
  "kernelspec": {
   "display_name": "Python 3",
   "language": "python",
   "name": "python3"
  },
  "language_info": {
   "codemirror_mode": {
    "name": "ipython",
    "version": 3
   },
   "file_extension": ".py",
   "mimetype": "text/x-python",
   "name": "python",
   "nbconvert_exporter": "python",
   "pygments_lexer": "ipython3",
   "version": "3.8.5"
  }
 },
 "nbformat": 4,
 "nbformat_minor": 4
}
