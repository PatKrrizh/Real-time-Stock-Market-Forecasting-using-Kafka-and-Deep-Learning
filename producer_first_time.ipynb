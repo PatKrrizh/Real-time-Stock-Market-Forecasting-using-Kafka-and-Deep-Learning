{
 "cells": [
  {
   "cell_type": "code",
   "execution_count": null,
   "metadata": {},
   "outputs": [],
   "source": [
    "# import required packages\n",
    "from alpha_vantage.timeseries import TimeSeries\n",
    "import json\n",
    "from kafka import KafkaConsumer\n",
    "from kafka import KafkaProducer\n",
    "import json\n",
    "from datetime import datetime\n",
    "import logging\n",
    "from kafka.structs import TopicPartition\n",
    "import os.path"
   ]
  },
  {
   "cell_type": "code",
   "execution_count": null,
   "metadata": {},
   "outputs": [],
   "source": [
    "# messages to Kafka Server\n",
    "topic = 'Enter Topic Name'\n",
    "bootstrap_servers = 'localhost:9092'\n",
    "producer = KafkaProducer(bootstrap_servers=bootstrap_servers, value_serializer=lambda x:json.dumps(x).encode('utf-8'))"
   ]
  },
  {
   "cell_type": "code",
   "execution_count": null,
   "metadata": {},
   "outputs": [],
   "source": [
    "# initialize last timestamp with a required starting value\n",
    "last_timestamp=datetime.strptime('2021-01-01 00:00:00', \"%Y-%m-%d %H:%M:%S\")\n",
    "\n",
    "\"\"\"\n",
    "Recursively goes through the Alpha Vantage API stock data after waiting for 5 minutes\n",
    "Upload new data arrived using AV API & updating recording TimeStamp\n",
    "\"\"\"\n",
    "\n",
    "import time\n",
    "# Define key & TimeSeries object to pull stock data using Alpha Vantage API\n",
    "key = 'Enter API Key'\n",
    "ts = TimeSeries(key, output_format='json')\n",
    "while True:\n",
    "    try:\n",
    "        # get data using get_intraday function of AV API\n",
    "        data, meta = ts.get_intraday('Enter stock symbol', interval='1min', outputsize='full')\n",
    "\n",
    "        # set stock data in chronological order\n",
    "        lst=sorted(data)\n",
    "        data2={}\n",
    "        for l in lst:\n",
    "            data2[l]=data[l]\n",
    "        # send data to Kafka server for which data point data is not sent\n",
    "        for key in data2:\n",
    "            rec_date=datetime.strptime(key, \"%Y-%m-%d %H:%M:%S\")\n",
    "            print(rec_date)\n",
    "            if rec_date > last_timestamp:\n",
    "                dic={}\n",
    "                dic[key]=data[key]\n",
    "                producer.send(topic=topic, value=dic)\n",
    "                last_timestamp=rec_date\n",
    "                print(rec_date)\n",
    "        # updating last time stamp in related topic time stamp file\n",
    "        file=open(topic+'_timestamp.txt','w')\n",
    "        file.write(str(last_timestamp))\n",
    "        file.close()\n",
    "        time.sleep(300)\n",
    "    except Exception as e:\n",
    "        logging.warning('exception while pulling datapoints from API / sending data to Kafka')"
   ]
  },
  {
   "cell_type": "code",
   "execution_count": null,
   "metadata": {},
   "outputs": [],
   "source": [
    "# close Kafka producer & consumer objects used\n",
    "producer.close()\n",
    "consumer.close()"
   ]
  }
 ],
 "metadata": {
  "kernelspec": {
   "display_name": "Python 3",
   "language": "python",
   "name": "python3"
  },
  "language_info": {
   "codemirror_mode": {
    "name": "ipython",
    "version": 3
   },
   "file_extension": ".py",
   "mimetype": "text/x-python",
   "name": "python",
   "nbconvert_exporter": "python",
   "pygments_lexer": "ipython3",
   "version": "3.8.5"
  }
 },
 "nbformat": 4,
 "nbformat_minor": 4
}
